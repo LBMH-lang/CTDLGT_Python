{
  "nbformat": 4,
  "nbformat_minor": 0,
  "metadata": {
    "colab": {
      "name": "BT02: Ước số chung lớn nhất.ipynb",
      "provenance": [],
      "authorship_tag": "ABX9TyOKth+xE+mBgzBD2e3clkUG",
      "include_colab_link": true
    },
    "kernelspec": {
      "name": "python3",
      "display_name": "Python 3"
    },
    "language_info": {
      "name": "python"
    }
  },
  "cells": [
    {
      "cell_type": "markdown",
      "metadata": {
        "id": "view-in-github",
        "colab_type": "text"
      },
      "source": [
        "<a href=\"https://colab.research.google.com/github/LBMH-lang/R/blob/main/BT02_%C6%AF%E1%BB%9Bc_s%E1%BB%91_chung_l%E1%BB%9Bn_nh%E1%BA%A5t.ipynb\" target=\"_parent\"><img src=\"https://colab.research.google.com/assets/colab-badge.svg\" alt=\"Open In Colab\"/></a>"
      ]
    },
    {
      "cell_type": "code",
      "metadata": {
        "colab": {
          "base_uri": "https://localhost:8080/"
        },
        "id": "vpO4Wc4zZE_0",
        "outputId": "e1f62810-6dd4-4ce8-992d-d1947aeef13f"
      },
      "source": [
        "#BT02: Ước số chung lớn nhất\n",
        "def uscln(a, b):\n",
        "    if (b == 0):\n",
        "        return a;\n",
        "    return uscln(b, a % b);\n",
        "a = int(input(\"Nhập số nguyên dương a = \"));\n",
        "b = int(input(\"Nhập số nguyên dương b = \"));\n",
        "print(\"Ước số chung lớn nhất của\", a, \"và\", b, \"là:\", uscln(a, b));"
      ],
      "execution_count": 1,
      "outputs": [
        {
          "output_type": "stream",
          "text": [
            "Nhập số nguyên dương a = 3\n",
            "Nhập số nguyên dương b = 2\n",
            "Ước số chung lớn nhất của 3 và 2 là: 1\n"
          ],
          "name": "stdout"
        }
      ]
    }
  ]
}