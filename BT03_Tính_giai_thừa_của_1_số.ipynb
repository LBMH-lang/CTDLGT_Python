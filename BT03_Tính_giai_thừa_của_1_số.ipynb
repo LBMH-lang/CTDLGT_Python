{
  "nbformat": 4,
  "nbformat_minor": 0,
  "metadata": {
    "colab": {
      "name": "BT03: Tính giai thừa của 1 số.ipynb",
      "provenance": [],
      "authorship_tag": "ABX9TyP4zlgY4hFQ8k7ss5JlLTO1",
      "include_colab_link": true
    },
    "kernelspec": {
      "name": "python3",
      "display_name": "Python 3"
    },
    "language_info": {
      "name": "python"
    }
  },
  "cells": [
    {
      "cell_type": "markdown",
      "metadata": {
        "id": "view-in-github",
        "colab_type": "text"
      },
      "source": [
        "<a href=\"https://colab.research.google.com/github/LBMH-lang/R/blob/main/BT03_T%C3%ADnh_giai_th%E1%BB%ABa_c%E1%BB%A7a_1_s%E1%BB%91.ipynb\" target=\"_parent\"><img src=\"https://colab.research.google.com/assets/colab-badge.svg\" alt=\"Open In Colab\"/></a>"
      ]
    },
    {
      "cell_type": "code",
      "metadata": {
        "id": "kWrqoJGdZ3ER",
        "outputId": "41056d39-9b96-42b7-d1cf-006d5c85d442",
        "colab": {
          "base_uri": "https://localhost:8080/"
        }
      },
      "source": [
        "#BT03: Tính giai thừa của 1 số\n",
        "n = int(input(\"Nhập số cần tính giai thừa: \"))\n",
        " \n",
        "def giaiThua(n):\n",
        "    if n == 0:\n",
        "        return 1\n",
        "    return n * giaiThua(n - 1)\n",
        " \n",
        "print (giaiThua(n))"
      ],
      "execution_count": 1,
      "outputs": [
        {
          "output_type": "stream",
          "text": [
            "Nhập số cần tính giai thừa: 5\n",
            "120\n"
          ],
          "name": "stdout"
        }
      ]
    }
  ]
}