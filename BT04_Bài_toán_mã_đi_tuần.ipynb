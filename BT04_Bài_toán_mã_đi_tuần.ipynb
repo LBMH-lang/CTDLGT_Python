{
  "nbformat": 4,
  "nbformat_minor": 0,
  "metadata": {
    "colab": {
      "name": "BT04: Bài toán mã đi tuần.ipynb",
      "provenance": [],
      "authorship_tag": "ABX9TyMbL2YwRCUuo985T19e/MNr",
      "include_colab_link": true
    },
    "kernelspec": {
      "name": "python3",
      "display_name": "Python 3"
    },
    "language_info": {
      "name": "python"
    }
  },
  "cells": [
    {
      "cell_type": "markdown",
      "metadata": {
        "id": "view-in-github",
        "colab_type": "text"
      },
      "source": [
        "<a href=\"https://colab.research.google.com/github/LBMH-lang/R/blob/main/BT04_B%C3%A0i_to%C3%A1n_m%C3%A3_%C4%91i_tu%E1%BA%A7n.ipynb\" target=\"_parent\"><img src=\"https://colab.research.google.com/assets/colab-badge.svg\" alt=\"Open In Colab\"/></a>"
      ]
    },
    {
      "cell_type": "code",
      "metadata": {
        "id": "BR0f-jO0aKeZ"
      },
      "source": [
        "#BT04: Bài toán mã đi tuần\n",
        "using namespace std;\n",
        "int A[MAX][MAX] = { 0 };//Khởi tạo mảng giá trị 0\n",
        "int X[8] = { -2,-2,-1,-1, 1, 1, 2, 2 };\n",
        "int Y[8] = { -1, 1,-2, 2,-2, 2,-1, 1 };\n",
        "int dem = 0;//Số bước đi\n",
        "int n;\n",
        "\n",
        "void xuat() {\n",
        "    for (int i = 0; i < n; i++) {\n",
        "        for (int j = 0; j < n; j++)\n",
        "            printf(\"%2d \", A[i][j]);\n",
        "        cout << endl;\n",
        "    }\n",
        "    cout << endl;\n",
        "}\n",
        "\n",
        "void diChuyen(int x, int y) {\n",
        "    ++dem;//Tăng giá trị bước đi\n",
        "    A[x][y] = dem;//Đánh dấu đã đi\n",
        "\n",
        "    //Kiểm tra trong 8 vị trí khả thi của con mã\n",
        "    //Bước đi tiếp theo;\n",
        "    for (int i = 0; i < 8; i++) {\n",
        "        //Kiểm tra xem mã đã đi hết bàn cờ chưa\n",
        "        if (dem == n * n) { // Nếu nước đi là n*n thì đã đi hết bàn cờ\n",
        "            cout << \"Cac buoc di la: \\n\";\n",
        "            xuat();\n",
        "            exit(0);//kết thúc chương trình\n",
        "        }\n",
        "        //Nếu chưa đi hết bàn cờ thì tạo bước đi mới\n",
        "        //Cộng với mảng X,Y - tọa độ 8 điểm khả thi mới.\n",
        "        int u = x + X[i];//tạo một vị trí x mới\n",
        "        int v = y + Y[i];//tạo một vịi trí y mới\n",
        "        //Nếu hợp lẹ thì tiến hành di chuyển\n",
        "        //u,v phải lớn hơn 0 và nhỏ hơn n để đảm bảo nằm trong bàn cờ\n",
        "        //A[u][v] == 0 vị trí đó phải trống, chưa đi qua lần nào\n",
        "        if (u >= 0 && u < n && v >= 0 && v < n && A[u][v] == 0)\n",
        "            diChuyen(u, v);\n",
        "    }\n",
        "    //Nếu không tìm được bước đi thì ta phải trả lại các giá trị ban đầu\n",
        "    --dem;\n",
        "    A[x][y] = 0;//tọa độ sẽ trả về 0 - chưa đi qua.\n",
        "}\n",
        "int main() {\n",
        "    cout << \"Nhap n: \";\n",
        "    cin >> n;\n",
        "    int a, b;\n",
        "    cout << \"Nhap vi tri ban dau.\\nx: \";\n",
        "    cin >> a;\n",
        "    cout << \"y: \";\n",
        "    cin >> b;\n",
        "    diChuyen(a, b);\n",
        "    //Nếu không tìm được bước đi thì sẽ thông báo\n",
        "    cout << \"Khong tim thay duong di.\";\n",
        "}"
      ],
      "execution_count": null,
      "outputs": []
    }
  ]
}