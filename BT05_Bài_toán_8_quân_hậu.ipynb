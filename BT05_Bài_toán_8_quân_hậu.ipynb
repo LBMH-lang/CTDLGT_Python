{
  "nbformat": 4,
  "nbformat_minor": 0,
  "metadata": {
    "colab": {
      "name": "BT05: Bài toán 8 quân hậu.ipynb",
      "provenance": [],
      "authorship_tag": "ABX9TyPXbZT7lie4pZjkebZRGIcE",
      "include_colab_link": true
    },
    "kernelspec": {
      "name": "python3",
      "display_name": "Python 3"
    },
    "language_info": {
      "name": "python"
    }
  },
  "cells": [
    {
      "cell_type": "markdown",
      "metadata": {
        "id": "view-in-github",
        "colab_type": "text"
      },
      "source": [
        "<a href=\"https://colab.research.google.com/github/LBMH-lang/R/blob/main/BT05_B%C3%A0i_to%C3%A1n_8_qu%C3%A2n_h%E1%BA%ADu.ipynb\" target=\"_parent\"><img src=\"https://colab.research.google.com/assets/colab-badge.svg\" alt=\"Open In Colab\"/></a>"
      ]
    },
    {
      "cell_type": "code",
      "metadata": {
        "id": "WUzwg9DybBcK"
      },
      "source": [
        "#BT05: Bài toán 8 quân hậu\n",
        "n = 8\n",
        "a = n*[0]\n",
        "def print_board(b):\n",
        "   l = len(b)\n",
        "   for i in range(l):\n",
        "      for j in range(l):\n",
        "         if j == a[i]:\n",
        "            print(1, end = \" \")\n",
        "         else:\n",
        "            print(0, end = \" \")\n",
        "      print()\n",
        "def possible(d, c):\n",
        "   for i in range(d):\n",
        "      # if a[i] == y or abs(i - x) == abs(a[i] - y):\n",
        "      if a[i] == c  or c - d == a[i] - i or c + d == a[i] + i:\n",
        "         return False\n",
        "   return True\n",
        "def gen(i, n):\n",
        "   for j in range(n):\n",
        "      if possible(i,j):\n",
        "         a[i] = j\n",
        "         if i == n - 1:\n",
        "            print(a)\n",
        "         gen(i+1, n)\n",
        "gen(0, n)"
      ],
      "execution_count": null,
      "outputs": []
    }
  ]
}