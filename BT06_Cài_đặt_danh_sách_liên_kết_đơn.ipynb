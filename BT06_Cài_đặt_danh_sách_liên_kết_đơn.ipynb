{
  "nbformat": 4,
  "nbformat_minor": 0,
  "metadata": {
    "colab": {
      "name": "BT06: Cài đặt danh sách liên kết đơn.ipynb",
      "provenance": [],
      "authorship_tag": "ABX9TyO16m42Xd75fEbrJUYJaJGW",
      "include_colab_link": true
    },
    "kernelspec": {
      "name": "python3",
      "display_name": "Python 3"
    },
    "language_info": {
      "name": "python"
    }
  },
  "cells": [
    {
      "cell_type": "markdown",
      "metadata": {
        "id": "view-in-github",
        "colab_type": "text"
      },
      "source": [
        "<a href=\"https://colab.research.google.com/github/LBMH-lang/R/blob/main/BT06_C%C3%A0i_%C4%91%E1%BA%B7t_danh_s%C3%A1ch_li%C3%AAn_k%E1%BA%BFt_%C4%91%C6%A1n.ipynb\" target=\"_parent\"><img src=\"https://colab.research.google.com/assets/colab-badge.svg\" alt=\"Open In Colab\"/></a>"
      ]
    },
    {
      "cell_type": "code",
      "metadata": {
        "id": "FTdHH7bebXX_"
      },
      "source": [
        "#BT06: Cài đặt danh sách liên kết đơn\n",
        "class Node: \n",
        "   \n",
        "def __init__(self, data): \n",
        "        self.data = data   \n",
        "        self.next = None \n",
        "class LinkedList: \n",
        "     \n",
        "    def __init__(self):  \n",
        "        self.head = None\n",
        "#BT07: Cài đặt danh sách liên kết kép\n",
        "class Node: \n",
        "    def __init__(self, next=None, prev=None, data=None): \n",
        "        self.next = next  \n",
        "        self.prev = prev  \n",
        "        self.data = data "
      ],
      "execution_count": null,
      "outputs": []
    }
  ]
}