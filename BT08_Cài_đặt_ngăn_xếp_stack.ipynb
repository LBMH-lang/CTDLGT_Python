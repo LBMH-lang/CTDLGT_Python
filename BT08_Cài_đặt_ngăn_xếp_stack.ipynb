{
  "nbformat": 4,
  "nbformat_minor": 0,
  "metadata": {
    "colab": {
      "name": "BT08: Cài đặt ngăn xếp - stack.ipynb",
      "provenance": [],
      "authorship_tag": "ABX9TyM/kHSBNKYSKUwAnx2US3td",
      "include_colab_link": true
    },
    "kernelspec": {
      "name": "python3",
      "display_name": "Python 3"
    },
    "language_info": {
      "name": "python"
    }
  },
  "cells": [
    {
      "cell_type": "markdown",
      "metadata": {
        "id": "view-in-github",
        "colab_type": "text"
      },
      "source": [
        "<a href=\"https://colab.research.google.com/github/LBMH-lang/R/blob/main/BT08_C%C3%A0i_%C4%91%E1%BA%B7t_ng%C4%83n_x%E1%BA%BFp_stack.ipynb\" target=\"_parent\"><img src=\"https://colab.research.google.com/assets/colab-badge.svg\" alt=\"Open In Colab\"/></a>"
      ]
    },
    {
      "cell_type": "code",
      "metadata": {
        "id": "qrd6yMvUbp8V"
      },
      "source": [
        "#BT08: Cài đặt ngăn xếp - stack\n",
        "struct Node {\n",
        "    int data;\n",
        "    Node *next;\n",
        "};\n",
        "typedef struct Node *stack;\n",
        "struct Stack{\n",
        "    Node *head;\n",
        "    Node *tail;\n",
        "};\n",
        "Node *createNode(int data) {\n",
        "    Node *p = new Node();\n",
        "    if (p == NULL) {\n",
        "        return NULL;\n",
        "    }\n",
        "    p->data = data;\n",
        "    p->next = NULL;\n",
        " \n",
        "    return p;\n",
        "}"
      ],
      "execution_count": null,
      "outputs": []
    }
  ]
}