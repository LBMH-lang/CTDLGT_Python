{
  "nbformat": 4,
  "nbformat_minor": 0,
  "metadata": {
    "colab": {
      "name": "BT09: Cài đặt hàng đợi - queue.ipynb",
      "provenance": [],
      "authorship_tag": "ABX9TyMWYcCDgDwIQcwGpL5gFaT4",
      "include_colab_link": true
    },
    "kernelspec": {
      "name": "python3",
      "display_name": "Python 3"
    },
    "language_info": {
      "name": "python"
    }
  },
  "cells": [
    {
      "cell_type": "markdown",
      "metadata": {
        "id": "view-in-github",
        "colab_type": "text"
      },
      "source": [
        "<a href=\"https://colab.research.google.com/github/LBMH-lang/R/blob/main/BT09_C%C3%A0i_%C4%91%E1%BA%B7t_h%C3%A0ng_%C4%91%E1%BB%A3i_queue.ipynb\" target=\"_parent\"><img src=\"https://colab.research.google.com/assets/colab-badge.svg\" alt=\"Open In Colab\"/></a>"
      ]
    },
    {
      "cell_type": "code",
      "metadata": {
        "id": "lqKJzO74cHLC"
      },
      "source": [
        "#BT09: Cài đặt hàng đợi - queue\n",
        "struct Node{\n",
        "    Node *next;\n",
        "    int data;\n",
        "};\n",
        "void Init( Queue &q ){\n",
        "    q.head = q.tail = NULL;\n",
        "}\n",
        "Node *createNode( int x ){\n",
        "    Node *p = new Node;\n",
        "    if(!p) exit(1);\n",
        "    p->next = NULL;\n",
        "    p->data = x;\n",
        "    return p;\n",
        "}"
      ],
      "execution_count": null,
      "outputs": []
    }
  ]
}