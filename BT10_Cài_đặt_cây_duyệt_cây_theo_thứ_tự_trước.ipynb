{
  "nbformat": 4,
  "nbformat_minor": 0,
  "metadata": {
    "colab": {
      "name": "BT10: Cài đặt cây - duyệt cây theo thứ tự trước.ipynb",
      "provenance": [],
      "authorship_tag": "ABX9TyMeyRxeWDzEO9VXtUqVb8ip",
      "include_colab_link": true
    },
    "kernelspec": {
      "name": "python3",
      "display_name": "Python 3"
    },
    "language_info": {
      "name": "python"
    }
  },
  "cells": [
    {
      "cell_type": "markdown",
      "metadata": {
        "id": "view-in-github",
        "colab_type": "text"
      },
      "source": [
        "<a href=\"https://colab.research.google.com/github/LBMH-lang/R/blob/main/BT10_C%C3%A0i_%C4%91%E1%BA%B7t_c%C3%A2y_duy%E1%BB%87t_c%C3%A2y_theo_th%E1%BB%A9_t%E1%BB%B1_tr%C6%B0%E1%BB%9Bc.ipynb\" target=\"_parent\"><img src=\"https://colab.research.google.com/assets/colab-badge.svg\" alt=\"Open In Colab\"/></a>"
      ]
    },
    {
      "cell_type": "code",
      "metadata": {
        "id": "eHzvqGcYcVeZ"
      },
      "source": [
        "#BT10: Cài đặt cây - duyệt cây theo thứ tự trước\n",
        "from anytree import Node, RenderTree\n",
        "udo = Node(\"Udo\")\n",
        "marc = Node(\"Marc\", parent=udo)\n",
        "lian = Node(\"Lian\", parent=marc)\n",
        "dan = Node(\"Dan\", parent=udo)\n",
        "jet = Node(\"Jet\", parent=dan)\n",
        "jan = Node(\"Jan\", parent=dan)\n",
        "joe = Node(\"Joe\", parent=dan)"
      ],
      "execution_count": 5,
      "outputs": []
    },
    {
      "cell_type": "code",
      "metadata": {
        "colab": {
          "base_uri": "https://localhost:8080/"
        },
        "id": "1XqBrp28c9rD",
        "outputId": "60154fc7-9182-40ef-a1c9-e2cb0473f606"
      },
      "source": [
        "print(udo)\n",
        "print(joe)"
      ],
      "execution_count": 6,
      "outputs": [
        {
          "output_type": "stream",
          "text": [
            "Node('/Udo')\n",
            "Node('/Udo/Dan/Joe')\n"
          ],
          "name": "stdout"
        }
      ]
    },
    {
      "cell_type": "code",
      "metadata": {
        "colab": {
          "base_uri": "https://localhost:8080/"
        },
        "id": "JmO3M11RdLB2",
        "outputId": "9518805e-4fcd-406f-efc2-b3599a3c437b"
      },
      "source": [
        "for pre, fill, node in RenderTree(udo):\n",
        "  print(\"%s%s\" % (pre, node.name))"
      ],
      "execution_count": 7,
      "outputs": [
        {
          "output_type": "stream",
          "text": [
            "Udo\n",
            "├── Marc\n",
            "│   └── Lian\n",
            "└── Dan\n",
            "    ├── Jet\n",
            "    ├── Jan\n",
            "    └── Joe\n"
          ],
          "name": "stdout"
        }
      ]
    },
    {
      "cell_type": "code",
      "metadata": {
        "colab": {
          "base_uri": "https://localhost:8080/"
        },
        "id": "lfx69Mmvcs1Q",
        "outputId": "ba7be8eb-8484-4d93-f77e-763b36775ff6"
      },
      "source": [
        "pip install anytree"
      ],
      "execution_count": 4,
      "outputs": [
        {
          "output_type": "stream",
          "text": [
            "Requirement already satisfied: anytree in /usr/local/lib/python3.7/dist-packages (2.8.0)\n",
            "Requirement already satisfied: six>=1.9.0 in /usr/local/lib/python3.7/dist-packages (from anytree) (1.15.0)\n"
          ],
          "name": "stdout"
        }
      ]
    }
  ]
}