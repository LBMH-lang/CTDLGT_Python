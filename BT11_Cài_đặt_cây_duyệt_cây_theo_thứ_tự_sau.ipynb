{
  "nbformat": 4,
  "nbformat_minor": 0,
  "metadata": {
    "colab": {
      "name": "BT11: Cài đặt cây - duyệt cây theo thứ tự sau.ipynb",
      "provenance": [],
      "authorship_tag": "ABX9TyOu3Dx4D52l4q3IKUTzwAdr",
      "include_colab_link": true
    },
    "kernelspec": {
      "name": "python3",
      "display_name": "Python 3"
    },
    "language_info": {
      "name": "python"
    }
  },
  "cells": [
    {
      "cell_type": "markdown",
      "metadata": {
        "id": "view-in-github",
        "colab_type": "text"
      },
      "source": [
        "<a href=\"https://colab.research.google.com/github/LBMH-lang/R/blob/main/BT11_C%C3%A0i_%C4%91%E1%BA%B7t_c%C3%A2y_duy%E1%BB%87t_c%C3%A2y_theo_th%E1%BB%A9_t%E1%BB%B1_sau.ipynb\" target=\"_parent\"><img src=\"https://colab.research.google.com/assets/colab-badge.svg\" alt=\"Open In Colab\"/></a>"
      ]
    },
    {
      "cell_type": "code",
      "metadata": {
        "colab": {
          "base_uri": "https://localhost:8080/"
        },
        "id": "PWMAHgw8d9f4",
        "outputId": "5bb01ad5-aa99-4aed-c874-5f0793502580"
      },
      "source": [
        "#BT11: Cài đặt cây - duyệt cây theo thứ tự sau\n",
        "from anytree import Node, RenderTree\n",
        "mary = Node(\"Mary\")\n",
        "urs = Node(\"Urs\", parent=mary)\n",
        "chris = Node(\"Chris\", parent=mary)\n",
        "marta = Node(\"Marta\", parent=mary)\n",
        "print(RenderTree(mary))"
      ],
      "execution_count": 3,
      "outputs": [
        {
          "output_type": "stream",
          "text": [
            "Node('/Mary')\n",
            "├── Node('/Mary/Urs')\n",
            "├── Node('/Mary/Chris')\n",
            "└── Node('/Mary/Marta')\n"
          ],
          "name": "stdout"
        }
      ]
    },
    {
      "cell_type": "code",
      "metadata": {
        "colab": {
          "base_uri": "https://localhost:8080/"
        },
        "id": "b9Qx0TCseWzc",
        "outputId": "1620f209-1e0f-47dd-ada0-918ef1a732df"
      },
      "source": [
        "pip install anytree"
      ],
      "execution_count": 2,
      "outputs": [
        {
          "output_type": "stream",
          "text": [
            "Collecting anytree\n",
            "\u001b[?25l  Downloading https://files.pythonhosted.org/packages/a8/65/be23d8c3ecd68d40541d49812cd94ed0f3ee37eb88669ca15df0e43daed1/anytree-2.8.0-py2.py3-none-any.whl (41kB)\n",
            "\r\u001b[K     |███████▉                        | 10kB 19.2MB/s eta 0:00:01\r\u001b[K     |███████████████▊                | 20kB 27.7MB/s eta 0:00:01\r\u001b[K     |███████████████████████▋        | 30kB 32.4MB/s eta 0:00:01\r\u001b[K     |███████████████████████████████▍| 40kB 24.9MB/s eta 0:00:01\r\u001b[K     |████████████████████████████████| 51kB 4.3MB/s \n",
            "\u001b[?25hRequirement already satisfied: six>=1.9.0 in /usr/local/lib/python3.7/dist-packages (from anytree) (1.15.0)\n",
            "Installing collected packages: anytree\n",
            "Successfully installed anytree-2.8.0\n"
          ],
          "name": "stdout"
        }
      ]
    }
  ]
}