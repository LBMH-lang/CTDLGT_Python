{
  "nbformat": 4,
  "nbformat_minor": 0,
  "metadata": {
    "colab": {
      "name": "BT15:  Cài đặt thuật toán sắp xếp chèn.ipynb",
      "provenance": [],
      "authorship_tag": "ABX9TyM1NTS1OGMAMgO9uZvaVXOR",
      "include_colab_link": true
    },
    "kernelspec": {
      "name": "python3",
      "display_name": "Python 3"
    },
    "language_info": {
      "name": "python"
    }
  },
  "cells": [
    {
      "cell_type": "markdown",
      "metadata": {
        "id": "view-in-github",
        "colab_type": "text"
      },
      "source": [
        "<a href=\"https://colab.research.google.com/github/LBMH-lang/R/blob/main/BT15_C%C3%A0i_%C4%91%E1%BA%B7t_thu%E1%BA%ADt_to%C3%A1n_s%E1%BA%AFp_x%E1%BA%BFp_ch%C3%A8n.ipynb\" target=\"_parent\"><img src=\"https://colab.research.google.com/assets/colab-badge.svg\" alt=\"Open In Colab\"/></a>"
      ]
    },
    {
      "cell_type": "code",
      "metadata": {
        "colab": {
          "base_uri": "https://localhost:8080/"
        },
        "id": "6KBP1-Kc1s3c",
        "outputId": "b386c316-b2c2-46f6-ac79-b90c9fdfd8a0"
      },
      "source": [
        "#BT15:  Cài đặt thuật toán sắp xếp chèn\n",
        "def insertion_sort(nums):  \n",
        "    # Start on the second element as we assume the first element is sorted\n",
        "    for i in range(1, len(nums)):\n",
        "        item_to_insert = nums[i]\n",
        "        # And keep a reference of the index of the previous element\n",
        "        j = i - 1\n",
        "        # Move all items of the sorted segment forward if they are larger than\n",
        "        # the item to insert\n",
        "        while j >= 0 and nums[j] > item_to_insert:\n",
        "            nums[j + 1] = nums[j]\n",
        "            j -= 1\n",
        "        # Insert the item\n",
        "        nums[j + 1] = item_to_insert\n",
        "\n",
        "\n",
        "# Verify it works\n",
        "random_list_of_nums = [9, 1, 15, 28, 6]  \n",
        "insertion_sort(random_list_of_nums)  \n",
        "print(random_list_of_nums) "
      ],
      "execution_count": 1,
      "outputs": [
        {
          "output_type": "stream",
          "text": [
            "[1, 6, 9, 15, 28]\n"
          ],
          "name": "stdout"
        }
      ]
    }
  ]
}