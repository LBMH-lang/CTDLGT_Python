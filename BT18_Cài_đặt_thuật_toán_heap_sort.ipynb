{
  "nbformat": 4,
  "nbformat_minor": 0,
  "metadata": {
    "colab": {
      "name": "BT18:  Cài đặt thuật toán heap sort.ipynb",
      "provenance": [],
      "authorship_tag": "ABX9TyOlYRrrEOlqzQE0z59XTAI2",
      "include_colab_link": true
    },
    "kernelspec": {
      "name": "python3",
      "display_name": "Python 3"
    },
    "language_info": {
      "name": "python"
    }
  },
  "cells": [
    {
      "cell_type": "markdown",
      "metadata": {
        "id": "view-in-github",
        "colab_type": "text"
      },
      "source": [
        "<a href=\"https://colab.research.google.com/github/LBMH-lang/R/blob/main/BT18_C%C3%A0i_%C4%91%E1%BA%B7t_thu%E1%BA%ADt_to%C3%A1n_heap_sort.ipynb\" target=\"_parent\"><img src=\"https://colab.research.google.com/assets/colab-badge.svg\" alt=\"Open In Colab\"/></a>"
      ]
    },
    {
      "cell_type": "code",
      "metadata": {
        "colab": {
          "base_uri": "https://localhost:8080/"
        },
        "id": "mPLSNy7H3cH3",
        "outputId": "a6cd50f1-68d7-4380-ff5d-b0bf9d22cd3c"
      },
      "source": [
        "#BT18:  Cài đặt thuật toán heap sort\n",
        "def heapify(nums, heap_size, root_index):  \n",
        "    # Assume the index of the largest element is the root index\n",
        "    largest = root_index\n",
        "    left_child = (2 * root_index) + 1\n",
        "    right_child = (2 * root_index) + 2\n",
        "\n",
        "    # If the left child of the root is a valid index, and the element is greater\n",
        "    # than the current largest element, then update the largest element\n",
        "    if left_child < heap_size and nums[left_child] > nums[largest]:\n",
        "        largest = left_child\n",
        "\n",
        "    # Do the same for the right child of the root\n",
        "    if right_child < heap_size and nums[right_child] > nums[largest]:\n",
        "        largest = right_child\n",
        "\n",
        "    # If the largest element is no longer the root element, swap them\n",
        "    if largest != root_index:\n",
        "        nums[root_index], nums[largest] = nums[largest], nums[root_index]\n",
        "        # Heapify the new root element to ensure it's the largest\n",
        "        heapify(nums, heap_size, largest)\n",
        "\n",
        "\n",
        "def heap_sort(nums):  \n",
        "    n = len(nums)\n",
        "\n",
        "    # Create a Max Heap from the list\n",
        "    # The 2nd argument of range means we stop at the element before -1 i.e.\n",
        "    # the first element of the list.\n",
        "    # The 3rd argument of range means we iterate backwards, reducing the count\n",
        "    # of i by 1\n",
        "    for i in range(n, -1, -1):\n",
        "        heapify(nums, n, i)\n",
        "\n",
        "    # Move the root of the max heap to the end of\n",
        "    for i in range(n - 1, 0, -1):\n",
        "        nums[i], nums[0] = nums[0], nums[i]\n",
        "        heapify(nums, i, 0)\n",
        "\n",
        "\n",
        "# Verify it works\n",
        "random_list_of_nums = [35, 12, 43, 8, 51]  \n",
        "heap_sort(random_list_of_nums)  \n",
        "print(random_list_of_nums)  "
      ],
      "execution_count": 1,
      "outputs": [
        {
          "output_type": "stream",
          "text": [
            "[8, 12, 35, 43, 51]\n"
          ],
          "name": "stdout"
        }
      ]
    }
  ]
}