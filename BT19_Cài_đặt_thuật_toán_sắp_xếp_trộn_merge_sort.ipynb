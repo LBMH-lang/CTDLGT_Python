{
  "nbformat": 4,
  "nbformat_minor": 0,
  "metadata": {
    "colab": {
      "name": "BT19:  Cài đặt thuật toán sắp xếp trộn - merge sort.ipynb",
      "provenance": [],
      "authorship_tag": "ABX9TyOqW03XRwsEfKTnYM1XydQu",
      "include_colab_link": true
    },
    "kernelspec": {
      "name": "python3",
      "display_name": "Python 3"
    },
    "language_info": {
      "name": "python"
    }
  },
  "cells": [
    {
      "cell_type": "markdown",
      "metadata": {
        "id": "view-in-github",
        "colab_type": "text"
      },
      "source": [
        "<a href=\"https://colab.research.google.com/github/LBMH-lang/R/blob/main/BT19_C%C3%A0i_%C4%91%E1%BA%B7t_thu%E1%BA%ADt_to%C3%A1n_s%E1%BA%AFp_x%E1%BA%BFp_tr%E1%BB%99n_merge_sort.ipynb\" target=\"_parent\"><img src=\"https://colab.research.google.com/assets/colab-badge.svg\" alt=\"Open In Colab\"/></a>"
      ]
    },
    {
      "cell_type": "code",
      "metadata": {
        "colab": {
          "base_uri": "https://localhost:8080/"
        },
        "id": "uADLcn-Q46Ku",
        "outputId": "b854cb18-4183-4434-d334-9c9b7a3e6544"
      },
      "source": [
        "#BT19:  Cài đặt thuật toán sắp xếp trộn - merge sort\n",
        "def mergeSort(arr): \n",
        "    if len(arr) >1: \n",
        "        mid = len(arr)//2 # Finding the mid of the array \n",
        "        L = arr[:mid] # Dividing the array elements  \n",
        "        R = arr[mid:] # into 2 halves \n",
        "  \n",
        "        mergeSort(L) # Sorting the first half \n",
        "        mergeSort(R) # Sorting the second half \n",
        "  \n",
        "        i = j = k = 0\n",
        "          \n",
        "        # Copy data to temp arrays L[] and R[] \n",
        "        while i < len(L) and j < len(R): \n",
        "            if L[i] < R[j]: \n",
        "                arr[k] = L[i] \n",
        "                i+= 1\n",
        "            else: \n",
        "                arr[k] = R[j] \n",
        "                j+= 1\n",
        "            k+= 1\n",
        "          \n",
        "        # Checking if any element was left \n",
        "        while i < len(L): \n",
        "            arr[k] = L[i] \n",
        "            i+= 1\n",
        "            k+= 1\n",
        "          \n",
        "        while j < len(R): \n",
        "            arr[k] = R[j] \n",
        "            j+= 1\n",
        "            k+= 1\n",
        "  \n",
        "# Code to print the list \n",
        "def printList(arr): \n",
        "    for i in range(len(arr)):         \n",
        "        print(arr[i], end =\" \") \n",
        "    print() \n",
        "  \n",
        "# driver code to test the above code \n",
        "if __name__ == '__main__': \n",
        "    arr = [12, 11, 13, 5, 6, 7]  \n",
        "    print (\"Given array is\", end =\"\\n\")  \n",
        "    printList(arr) \n",
        "    mergeSort(arr) \n",
        "    print(\"Sorted array is: \", end =\"\\n\") \n",
        "    printList(arr) "
      ],
      "execution_count": 1,
      "outputs": [
        {
          "output_type": "stream",
          "text": [
            "Given array is\n",
            "12 11 13 5 6 7 \n",
            "Sorted array is: \n",
            "5 6 7 11 12 13 \n"
          ],
          "name": "stdout"
        }
      ]
    }
  ]
}