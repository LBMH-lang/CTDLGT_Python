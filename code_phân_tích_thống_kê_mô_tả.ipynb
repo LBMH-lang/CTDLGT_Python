{
  "nbformat": 4,
  "nbformat_minor": 0,
  "metadata": {
    "colab": {
      "name": "code phân tích thống kê mô tả.ipynb",
      "provenance": [],
      "authorship_tag": "ABX9TyOUDiQ3mvbp3apwXNkmu1EP",
      "include_colab_link": true
    },
    "kernelspec": {
      "name": "python3",
      "display_name": "Python 3"
    },
    "language_info": {
      "name": "python"
    }
  },
  "cells": [
    {
      "cell_type": "markdown",
      "metadata": {
        "id": "view-in-github",
        "colab_type": "text"
      },
      "source": [
        "<a href=\"https://colab.research.google.com/github/LBMH-lang/CTDLGT_Python/blob/main/code_ph%C3%A2n_t%C3%ADch_th%E1%BB%91ng_k%C3%AA_m%C3%B4_t%E1%BA%A3.ipynb\" target=\"_parent\"><img src=\"https://colab.research.google.com/assets/colab-badge.svg\" alt=\"Open In Colab\"/></a>"
      ]
    },
    {
      "cell_type": "markdown",
      "source": [
        "Cài đặt các thư viện"
      ],
      "metadata": {
        "id": "GzAfV-MG0dol"
      }
    },
    {
      "cell_type": "code",
      "execution_count": 3,
      "metadata": {
        "id": "fD-7aL49yFya"
      },
      "outputs": [],
      "source": [
        "import pandas as pd\n",
        "import numpy as np\n",
        "from scipy import stats\n",
        "import statistics\n",
        "import matplotlib.pyplot as plt\n",
        "import seaborn as sns\n",
        "import statsmodels.api as sm\n",
        "import pylab\n",
        "import scipy.stats as stats"
      ]
    },
    {
      "cell_type": "code",
      "source": [
        "Du_lieu1 = pd.read_csv(\"Tập dữ liệu Z.csv\")"
      ],
      "metadata": {
        "id": "hgqOnV4G0kIz"
      },
      "execution_count": 4,
      "outputs": []
    },
    {
      "cell_type": "code",
      "source": [
        "Du_lieu1.sample(10)"
      ],
      "metadata": {
        "colab": {
          "base_uri": "https://localhost:8080/",
          "height": 363
        },
        "id": "rXjH9TgM1vSf",
        "outputId": "61acf2f0-dd55-4162-d4d4-967db198bef2"
      },
      "execution_count": 5,
      "outputs": [
        {
          "output_type": "execute_result",
          "data": {
            "text/plain": [
              "    Person  gender  Age  Height  pre.weight  Diet  weight6weeks\n",
              "52      22     1.0   42     166          85     1          81.5\n",
              "58      44     1.0   33     190          76     2          72.5\n",
              "69      70     1.0   37     173          78     3          77.5\n",
              "72      73     1.0   40     179          79     3          74.5\n",
              "25      36     0.0   48     163          66     2          64.0\n",
              "38      60     0.0   58     141          70     3          63.0\n",
              "71      72     1.0   26     179          78     3          69.4\n",
              "5        4     0.0   33     171          64     1          61.1\n",
              "46      16     1.0   31     158          72     1          70.9\n",
              "30      52     0.0   51     165          60     3          53.0"
            ],
            "text/html": [
              "\n",
              "  <div id=\"df-06bcc092-405f-4d45-9c51-2a0d7521d2b3\">\n",
              "    <div class=\"colab-df-container\">\n",
              "      <div>\n",
              "<style scoped>\n",
              "    .dataframe tbody tr th:only-of-type {\n",
              "        vertical-align: middle;\n",
              "    }\n",
              "\n",
              "    .dataframe tbody tr th {\n",
              "        vertical-align: top;\n",
              "    }\n",
              "\n",
              "    .dataframe thead th {\n",
              "        text-align: right;\n",
              "    }\n",
              "</style>\n",
              "<table border=\"1\" class=\"dataframe\">\n",
              "  <thead>\n",
              "    <tr style=\"text-align: right;\">\n",
              "      <th></th>\n",
              "      <th>Person</th>\n",
              "      <th>gender</th>\n",
              "      <th>Age</th>\n",
              "      <th>Height</th>\n",
              "      <th>pre.weight</th>\n",
              "      <th>Diet</th>\n",
              "      <th>weight6weeks</th>\n",
              "    </tr>\n",
              "  </thead>\n",
              "  <tbody>\n",
              "    <tr>\n",
              "      <th>52</th>\n",
              "      <td>22</td>\n",
              "      <td>1.0</td>\n",
              "      <td>42</td>\n",
              "      <td>166</td>\n",
              "      <td>85</td>\n",
              "      <td>1</td>\n",
              "      <td>81.5</td>\n",
              "    </tr>\n",
              "    <tr>\n",
              "      <th>58</th>\n",
              "      <td>44</td>\n",
              "      <td>1.0</td>\n",
              "      <td>33</td>\n",
              "      <td>190</td>\n",
              "      <td>76</td>\n",
              "      <td>2</td>\n",
              "      <td>72.5</td>\n",
              "    </tr>\n",
              "    <tr>\n",
              "      <th>69</th>\n",
              "      <td>70</td>\n",
              "      <td>1.0</td>\n",
              "      <td>37</td>\n",
              "      <td>173</td>\n",
              "      <td>78</td>\n",
              "      <td>3</td>\n",
              "      <td>77.5</td>\n",
              "    </tr>\n",
              "    <tr>\n",
              "      <th>72</th>\n",
              "      <td>73</td>\n",
              "      <td>1.0</td>\n",
              "      <td>40</td>\n",
              "      <td>179</td>\n",
              "      <td>79</td>\n",
              "      <td>3</td>\n",
              "      <td>74.5</td>\n",
              "    </tr>\n",
              "    <tr>\n",
              "      <th>25</th>\n",
              "      <td>36</td>\n",
              "      <td>0.0</td>\n",
              "      <td>48</td>\n",
              "      <td>163</td>\n",
              "      <td>66</td>\n",
              "      <td>2</td>\n",
              "      <td>64.0</td>\n",
              "    </tr>\n",
              "    <tr>\n",
              "      <th>38</th>\n",
              "      <td>60</td>\n",
              "      <td>0.0</td>\n",
              "      <td>58</td>\n",
              "      <td>141</td>\n",
              "      <td>70</td>\n",
              "      <td>3</td>\n",
              "      <td>63.0</td>\n",
              "    </tr>\n",
              "    <tr>\n",
              "      <th>71</th>\n",
              "      <td>72</td>\n",
              "      <td>1.0</td>\n",
              "      <td>26</td>\n",
              "      <td>179</td>\n",
              "      <td>78</td>\n",
              "      <td>3</td>\n",
              "      <td>69.4</td>\n",
              "    </tr>\n",
              "    <tr>\n",
              "      <th>5</th>\n",
              "      <td>4</td>\n",
              "      <td>0.0</td>\n",
              "      <td>33</td>\n",
              "      <td>171</td>\n",
              "      <td>64</td>\n",
              "      <td>1</td>\n",
              "      <td>61.1</td>\n",
              "    </tr>\n",
              "    <tr>\n",
              "      <th>46</th>\n",
              "      <td>16</td>\n",
              "      <td>1.0</td>\n",
              "      <td>31</td>\n",
              "      <td>158</td>\n",
              "      <td>72</td>\n",
              "      <td>1</td>\n",
              "      <td>70.9</td>\n",
              "    </tr>\n",
              "    <tr>\n",
              "      <th>30</th>\n",
              "      <td>52</td>\n",
              "      <td>0.0</td>\n",
              "      <td>51</td>\n",
              "      <td>165</td>\n",
              "      <td>60</td>\n",
              "      <td>3</td>\n",
              "      <td>53.0</td>\n",
              "    </tr>\n",
              "  </tbody>\n",
              "</table>\n",
              "</div>\n",
              "      <button class=\"colab-df-convert\" onclick=\"convertToInteractive('df-06bcc092-405f-4d45-9c51-2a0d7521d2b3')\"\n",
              "              title=\"Convert this dataframe to an interactive table.\"\n",
              "              style=\"display:none;\">\n",
              "        \n",
              "  <svg xmlns=\"http://www.w3.org/2000/svg\" height=\"24px\"viewBox=\"0 0 24 24\"\n",
              "       width=\"24px\">\n",
              "    <path d=\"M0 0h24v24H0V0z\" fill=\"none\"/>\n",
              "    <path d=\"M18.56 5.44l.94 2.06.94-2.06 2.06-.94-2.06-.94-.94-2.06-.94 2.06-2.06.94zm-11 1L8.5 8.5l.94-2.06 2.06-.94-2.06-.94L8.5 2.5l-.94 2.06-2.06.94zm10 10l.94 2.06.94-2.06 2.06-.94-2.06-.94-.94-2.06-.94 2.06-2.06.94z\"/><path d=\"M17.41 7.96l-1.37-1.37c-.4-.4-.92-.59-1.43-.59-.52 0-1.04.2-1.43.59L10.3 9.45l-7.72 7.72c-.78.78-.78 2.05 0 2.83L4 21.41c.39.39.9.59 1.41.59.51 0 1.02-.2 1.41-.59l7.78-7.78 2.81-2.81c.8-.78.8-2.07 0-2.86zM5.41 20L4 18.59l7.72-7.72 1.47 1.35L5.41 20z\"/>\n",
              "  </svg>\n",
              "      </button>\n",
              "      \n",
              "  <style>\n",
              "    .colab-df-container {\n",
              "      display:flex;\n",
              "      flex-wrap:wrap;\n",
              "      gap: 12px;\n",
              "    }\n",
              "\n",
              "    .colab-df-convert {\n",
              "      background-color: #E8F0FE;\n",
              "      border: none;\n",
              "      border-radius: 50%;\n",
              "      cursor: pointer;\n",
              "      display: none;\n",
              "      fill: #1967D2;\n",
              "      height: 32px;\n",
              "      padding: 0 0 0 0;\n",
              "      width: 32px;\n",
              "    }\n",
              "\n",
              "    .colab-df-convert:hover {\n",
              "      background-color: #E2EBFA;\n",
              "      box-shadow: 0px 1px 2px rgba(60, 64, 67, 0.3), 0px 1px 3px 1px rgba(60, 64, 67, 0.15);\n",
              "      fill: #174EA6;\n",
              "    }\n",
              "\n",
              "    [theme=dark] .colab-df-convert {\n",
              "      background-color: #3B4455;\n",
              "      fill: #D2E3FC;\n",
              "    }\n",
              "\n",
              "    [theme=dark] .colab-df-convert:hover {\n",
              "      background-color: #434B5C;\n",
              "      box-shadow: 0px 1px 3px 1px rgba(0, 0, 0, 0.15);\n",
              "      filter: drop-shadow(0px 1px 2px rgba(0, 0, 0, 0.3));\n",
              "      fill: #FFFFFF;\n",
              "    }\n",
              "  </style>\n",
              "\n",
              "      <script>\n",
              "        const buttonEl =\n",
              "          document.querySelector('#df-06bcc092-405f-4d45-9c51-2a0d7521d2b3 button.colab-df-convert');\n",
              "        buttonEl.style.display =\n",
              "          google.colab.kernel.accessAllowed ? 'block' : 'none';\n",
              "\n",
              "        async function convertToInteractive(key) {\n",
              "          const element = document.querySelector('#df-06bcc092-405f-4d45-9c51-2a0d7521d2b3');\n",
              "          const dataTable =\n",
              "            await google.colab.kernel.invokeFunction('convertToInteractive',\n",
              "                                                     [key], {});\n",
              "          if (!dataTable) return;\n",
              "\n",
              "          const docLinkHtml = 'Like what you see? Visit the ' +\n",
              "            '<a target=\"_blank\" href=https://colab.research.google.com/notebooks/data_table.ipynb>data table notebook</a>'\n",
              "            + ' to learn more about interactive tables.';\n",
              "          element.innerHTML = '';\n",
              "          dataTable['output_type'] = 'display_data';\n",
              "          await google.colab.output.renderOutput(dataTable, element);\n",
              "          const docLink = document.createElement('div');\n",
              "          docLink.innerHTML = docLinkHtml;\n",
              "          element.appendChild(docLink);\n",
              "        }\n",
              "      </script>\n",
              "    </div>\n",
              "  </div>\n",
              "  "
            ]
          },
          "metadata": {},
          "execution_count": 5
        }
      ]
    },
    {
      "cell_type": "markdown",
      "source": [
        ""
      ],
      "metadata": {
        "id": "QDNwbXvg1z7t"
      }
    },
    {
      "cell_type": "code",
      "source": [
        "high = low =  placebo = []\n",
        "high = Du_lieu1['gender'][Du_lieu1['Age'][Du_lieu1['Height'][Du_lieu1['pre.weight'][Du_lieu1['Diet'][Du_lieu1['weight6weeks'] == 'high']]]]]\n",
        "low = Du_lieu1['gender'][Du_lieu1['Age'][Du_lieu1['Height'][Du_lieu1['pre.weight'][Du_lieu1['Diet'][Du_lieu1['weight6weeks'] == 'low']]]]]\n",
        "placebo = Du_lieu1['gender'][Du_lieu1['Age'][Du_lieu1['Height'][Du_lieu1['pre.weight'][Du_lieu1['Diet'][Du_lieu1['weight6weeks'] == 'placebo']]]]]"
      ],
      "metadata": {
        "id": "Yqw6W6Po2hXA"
      },
      "execution_count": 6,
      "outputs": []
    },
    {
      "cell_type": "code",
      "source": [
        "gender = Du_lieu1['gender']\n",
        "Age = Du_lieu1['Age']\n",
        "Height = Du_lieu1['Height']\n",
        "weight = Du_lieu1['pre.weight']\n",
        "Diet = Du_lieu1['Diet']\n",
        "weight6weeks = Du_lieu1['weight6weeks']"
      ],
      "metadata": {
        "id": "T76apP33aYcI"
      },
      "execution_count": 7,
      "outputs": []
    },
    {
      "cell_type": "markdown",
      "source": [
        "Kiểm định Bartlett"
      ],
      "metadata": {
        "id": "JnVv_Sn1qsvq"
      }
    },
    {
      "cell_type": "code",
      "source": [
        "# tiếp theo ta sẽ dùng Kiểm định tính thuần nhất của phương sai (homogeneity of variance)\n",
        "from scipy.stats import bartlett\n",
        "print('Kiểm định Bartlett:')\n",
        "bartlett_test = bartlett(gender,Age,Height,weight,Diet,weight6weeks)\n",
        "print(bartlett_test)\n",
        "bartlettvalue,pvalue=bartlett_test\n",
        "if (bartlettvalue > 0) and (pvalue < 0.05):\n",
        "    print('Phương sai các nhóm không bằng nhau. Ta không thể sử dụng kiểm định Anova')\n",
        "else:\n",
        "    print('Phương sai các nhóm  bằng nhau.')\n",
        "print('-'*50)"
      ],
      "metadata": {
        "colab": {
          "base_uri": "https://localhost:8080/"
        },
        "id": "dDR2sN4TioEW",
        "outputId": "e8c1c99c-a380-4fd0-f070-2a4d7cb4e03f"
      },
      "execution_count": 7,
      "outputs": [
        {
          "output_type": "stream",
          "name": "stdout",
          "text": [
            "Kiểm định Bartlett:\n",
            "BartlettResult(statistic=656.9361929299977, pvalue=1.002775173314174e-139)\n",
            "Phương sai các nhóm không bằng nhau. Ta không thể sử dụng kiểm định Anova\n",
            "--------------------------------------------------\n"
          ]
        }
      ]
    },
    {
      "cell_type": "markdown",
      "source": [
        "Trung bình cộng của từng cột trong tập dữ liệu"
      ],
      "metadata": {
        "id": "Td8DfEvQqnu-"
      }
    },
    {
      "cell_type": "code",
      "source": [
        "Mean_EZ = Du_lieu1.mean(axis = 0)\n",
        "Mean_EZ"
      ],
      "metadata": {
        "colab": {
          "base_uri": "https://localhost:8080/"
        },
        "id": "sjpqM7OQqeDK",
        "outputId": "bf8a1fd7-672a-430d-e1f3-3bbfde6f1646"
      },
      "execution_count": 11,
      "outputs": [
        {
          "output_type": "execute_result",
          "data": {
            "text/plain": [
              "Person           39.500000\n",
              "gender            0.434211\n",
              "Age              39.153846\n",
              "Height          170.820513\n",
              "pre.weight       72.525641\n",
              "Diet              2.038462\n",
              "weight6weeks     68.680769\n",
              "dtype: float64"
            ]
          },
          "metadata": {},
          "execution_count": 11
        }
      ]
    },
    {
      "cell_type": "markdown",
      "source": [
        "Phương sai của từng cột trong tập dữ liệu"
      ],
      "metadata": {
        "id": "0Aer7cJVrylI"
      }
    },
    {
      "cell_type": "code",
      "source": [
        "Mean_EZ2 = Du_lieu1.var(axis= 0)\n",
        "Mean_EZ2"
      ],
      "metadata": {
        "colab": {
          "base_uri": "https://localhost:8080/"
        },
        "id": "TDhcd7kdr4XW",
        "outputId": "0ad4dba4-b6fa-441b-a9f9-e682eff0c3c2"
      },
      "execution_count": 12,
      "outputs": [
        {
          "output_type": "execute_result",
          "data": {
            "text/plain": [
              "Person          513.500000\n",
              "gender            0.248947\n",
              "Age              96.339660\n",
              "Height          127.162171\n",
              "pre.weight       76.096737\n",
              "Diet              0.660839\n",
              "weight6weeks     79.646768\n",
              "dtype: float64"
            ]
          },
          "metadata": {},
          "execution_count": 12
        }
      ]
    },
    {
      "cell_type": "markdown",
      "source": [
        "Độ lệch chuẩn của từng cột trong tập dữ liệu"
      ],
      "metadata": {
        "id": "rQIpW8g1r_cG"
      }
    },
    {
      "cell_type": "code",
      "source": [
        "Mean_EZ3 = Du_lieu1.std(axis= 0)\n",
        "Mean_EZ3"
      ],
      "metadata": {
        "colab": {
          "base_uri": "https://localhost:8080/"
        },
        "id": "SRM38fAhsEti",
        "outputId": "498bb762-a588-4275-cdf1-c1ed0fe7fdd1"
      },
      "execution_count": 13,
      "outputs": [
        {
          "output_type": "execute_result",
          "data": {
            "text/plain": [
              "Person          22.660538\n",
              "gender           0.498946\n",
              "Age              9.815277\n",
              "Height          11.276621\n",
              "pre.weight       8.723344\n",
              "Diet             0.812920\n",
              "weight6weeks     8.924504\n",
              "dtype: float64"
            ]
          },
          "metadata": {},
          "execution_count": 13
        }
      ]
    },
    {
      "cell_type": "markdown",
      "source": [
        "Giá trị lớn nhất và nhỏ nhất của từng cột trong tập dữ liệu"
      ],
      "metadata": {
        "id": "ROw1G6wFsd0P"
      }
    },
    {
      "cell_type": "code",
      "source": [
        "max1 = np.nanmax(Du_lieu1.iloc[:, 1].values)\n",
        "min1 = np.nanmin(Du_lieu1.iloc[:, 1].values)\n",
        "max2 = np.nanmax(Du_lieu1.iloc[:, 2].values)\n",
        "min2 = np.nanmin(Du_lieu1.iloc[:, 2].values)\n",
        "max3 = np.nanmax(Du_lieu1.iloc[:, 3].values)\n",
        "min3 = np.nanmin(Du_lieu1.iloc[:, 3].values)\n",
        "max4 = np.nanmax(Du_lieu1.iloc[:, 4].values)\n",
        "min4 = np.nanmin(Du_lieu1.iloc[:, 4].values)\n",
        "max5 = np.nanmax(Du_lieu1.iloc[:, 5].values)\n",
        "min5 = np.nanmin(Du_lieu1.iloc[:, 5].values)\n",
        "max6 = np.nanmax(Du_lieu1.iloc[:, 6].values)\n",
        "min6 = np.nanmin(Du_lieu1.iloc[:, 6].values)\n",
        "\n",
        "print('min của Person:', min1)\n",
        "print('max của gender:', max2)\n",
        "print('min của gender:', min2)\n",
        "print('max của Age:', max3)\n",
        "print('min của Age:', min3)\n",
        "print('max của Height:', max4)\n",
        "print('min của Height:', min4)\n",
        "print('max của pre.weight:', max5)\n",
        "print('min của pre.weight:', min5)\n",
        "print('max của Diet:', max6)\n",
        "print('min của Diet:', min6)\n"
      ],
      "metadata": {
        "colab": {
          "base_uri": "https://localhost:8080/"
        },
        "id": "PtKSIB36sdg-",
        "outputId": "2e4afd11-427b-45f6-9222-7fd0913b5e29"
      },
      "execution_count": 17,
      "outputs": [
        {
          "output_type": "stream",
          "name": "stdout",
          "text": [
            "min của Person: 0.0\n",
            "max của gender: 60\n",
            "min của gender: 16\n",
            "max của Age: 201\n",
            "min của Age: 141\n",
            "max của Height: 103\n",
            "min của Height: 58\n",
            "max của pre.weight: 3\n",
            "min của pre.weight: 1\n",
            "max của Diet: 103.0\n",
            "min của Diet: 53.0\n"
          ]
        }
      ]
    },
    {
      "cell_type": "code",
      "source": [
        "class thongke():\n",
        "    def __init__(self, data):\n",
        "        self.mean = np.mean(data)\n",
        "        self.med = np.median(data)\n",
        "        self.mod = statistics.mode(data)\n",
        "        self.min = np.min(data)\n",
        "        self.max = np.max(data)\n",
        "        self.std = np.std(data)\n",
        "        self.name = data.name\n",
        "        self.data = (data - self.mean) /self.std\n",
        "      \n",
        "    def hist(self):\n",
        "        plt.figure()\n",
        "        ax = sns.distplot(self.data)\n",
        "        plt.axvline(np.mean(self.data), color=\"r\", linestyle=\"dashed\", linewidth=5)\n",
        "        _, max_ = plt.ylim()\n",
        "        plt.text(\n",
        "            self.data.mean() + self.data.mean() / 10,\n",
        "            max_ - max_ / 10,\n",
        "            \"Mean: {:.2f}\".format(self.mean),\n",
        "        )\n",
        "        plt.title(self.name)\n",
        "        plt.xlabel(\"x\")\n",
        "        plt.ylabel(\"y\")\n",
        "        plt.show();   \n",
        "    def qq(self):\n",
        "        sm.qqplot(self.data, line='45')\n",
        "        plt.show()\n",
        "        a = [0.25,0.5,0.75]\n",
        "        b = self.data.quantile(a)\n",
        "        c = pd.DataFrame(b,a)\n",
        "        print(c)\n",
        "        print('-'*50)\n",
        "    def shapiro(self):\n",
        "        print('Kiểm định Shapori:')\n",
        "        stat, p = stats.shapiro(self.data)\n",
        "        print('stat=%.3f, p=%.3f' % (stat, p))\n",
        "        if p > 0.05:\n",
        "            print('Không thể bác bỏ giả thiết H0: Phân phối của dữ liệu là chuẩn')\n",
        "        else:\n",
        "            print('Dữ liệu không tuân theo luật phân phối chuẩn, ta không thể sử dụng kiểm định Anova')\n",
        "        print('-'*50)\n",
        "    #def anova(self):\n",
        "        #print('kiểm định anova:')\n",
        "        #statistic, p_value = f_oneway(self.name)\n",
        "        #print('statistic:',statistic, '; p value:',p_value)"
      ],
      "metadata": {
        "id": "XwinnrcYyIyS"
      },
      "execution_count": 36,
      "outputs": []
    },
    {
      "cell_type": "code",
      "source": [
        "gender = thongke(gender)\n",
        "gender.hist()\n"
      ],
      "metadata": {
        "colab": {
          "base_uri": "https://localhost:8080/",
          "height": 352
        },
        "id": "6IJawfZHyIqv",
        "outputId": "d43d2fce-8dcd-42a0-fead-a5de89dc7d12"
      },
      "execution_count": 31,
      "outputs": [
        {
          "output_type": "stream",
          "name": "stderr",
          "text": [
            "/usr/local/lib/python3.7/dist-packages/seaborn/distributions.py:2619: FutureWarning: `distplot` is a deprecated function and will be removed in a future version. Please adapt your code to use either `displot` (a figure-level function with similar flexibility) or `histplot` (an axes-level function for histograms).\n",
            "  warnings.warn(msg, FutureWarning)\n"
          ]
        },
        {
          "output_type": "display_data",
          "data": {
            "text/plain": [
              "<Figure size 432x288 with 1 Axes>"
            ],
            "image/png": "[encoded data removed]"
          },
          "metadata": {
            "needs_background": "light"
          }
        }
      ]
    },
    {
      "cell_type": "code",
      "source": [
        "Age = thongke(Age)\n",
        "Age.hist()\n",
        "Age.qq()"
      ],
      "metadata": {
        "colab": {
          "base_uri": "https://localhost:8080/",
          "height": 706
        },
        "id": "4iPJiWd8yzhH",
        "outputId": "8326d62c-ccb6-4c56-c824-16cd1f44747b"
      },
      "execution_count": 32,
      "outputs": [
        {
          "output_type": "stream",
          "name": "stderr",
          "text": [
            "/usr/local/lib/python3.7/dist-packages/seaborn/distributions.py:2619: FutureWarning: `distplot` is a deprecated function and will be removed in a future version. Please adapt your code to use either `displot` (a figure-level function with similar flexibility) or `histplot` (an axes-level function for histograms).\n",
            "  warnings.warn(msg, FutureWarning)\n"
          ]
        },
        {
          "output_type": "display_data",
          "data": {
            "text/plain": [
              "<Figure size 432x288 with 1 Axes>"
            ],
            "image/png": "[encoded data removed]"
          },
          "metadata": {
            "needs_background": "light"
          }
        },
        {
          "output_type": "display_data",
          "data": {
            "text/plain": [
              "<Figure size 432x288 with 1 Axes>"
            ],
            "image/png": "[encoded data removed]"
          },
          "metadata": {
            "needs_background": "light"
          }
        },
        {
          "output_type": "stream",
          "name": "stdout",
          "text": [
            "           Age\n",
            "0.25 -0.707930\n",
            "0.50 -0.015776\n",
            "0.75  0.778921\n",
            "--------------------------------------------------\n"
          ]
        }
      ]
    },
    {
      "cell_type": "markdown",
      "source": [
        "Biểu đồ Weight6weeks:"
      ],
      "metadata": {
        "id": "Q5PpYHIv9lTP"
      }
    },
    {
      "cell_type": "code",
      "source": [
        "plt.plot(weight6weeks)\n",
        "plt.title(\"Weight6weeks\")\n",
        "plt.show()"
      ],
      "metadata": {
        "colab": {
          "base_uri": "https://localhost:8080/",
          "height": 281
        },
        "id": "BUg3YR6i43jh",
        "outputId": "e17c7d8a-3202-42f9-8363-6917dff1ff08"
      },
      "execution_count": 13,
      "outputs": [
        {
          "output_type": "display_data",
          "data": {
            "text/plain": [
              "<Figure size 432x288 with 1 Axes>"
            ],
            "image/png": "[encoded data removed]"
          },
          "metadata": {
            "needs_background": "light"
          }
        }
      ]
    },
    {
      "cell_type": "markdown",
      "source": [
        "Biểu đồ Height:"
      ],
      "metadata": {
        "id": "f2xXlREQ93-b"
      }
    },
    {
      "cell_type": "code",
      "source": [
        "plt.plot(Height)\n",
        "plt.title(\"Height\")\n",
        "plt.show()"
      ],
      "metadata": {
        "colab": {
          "base_uri": "https://localhost:8080/",
          "height": 281
        },
        "id": "3pq7fSwZ9uND",
        "outputId": "c52e0807-d4cb-4a18-a8f0-568e921543e6"
      },
      "execution_count": 14,
      "outputs": [
        {
          "output_type": "display_data",
          "data": {
            "text/plain": [
              "<Figure size 432x288 with 1 Axes>"
            ],
            "image/png": "[encoded data removed]"
          },
          "metadata": {
            "needs_background": "light"
          }
        }
      ]
    },
    {
      "cell_type": "markdown",
      "source": [
        "Biểu đồ Weight:"
      ],
      "metadata": {
        "id": "pW0oGeDt_X5V"
      }
    },
    {
      "cell_type": "code",
      "source": [
        "plt.plot(weight)\n",
        "plt.title(\"Weight\")\n",
        "plt.show()"
      ],
      "metadata": {
        "colab": {
          "base_uri": "https://localhost:8080/",
          "height": 281
        },
        "id": "EGCxK9bS91xT",
        "outputId": "2bd53149-8b2d-44ad-d2d7-1c95903ed344"
      },
      "execution_count": 15,
      "outputs": [
        {
          "output_type": "display_data",
          "data": {
            "text/plain": [
              "<Figure size 432x288 with 1 Axes>"
            ],
            "image/png": "[encoded data removed]"
          },
          "metadata": {
            "needs_background": "light"
          }
        }
      ]
    },
    {
      "cell_type": "code",
      "source": [
        "max7 = np.nanmax(Du_lieu1.iloc[:, 7].values)\n",
        "min7 = np.nanmin(Du_lieu1.iloc[:, 7].values)\n",
        "print('max của weight6weeks', max7)\n",
        "print('min của weight6weeks', min7)"
      ],
      "metadata": {
        "id": "3ncSkrN_xv34"
      },
      "execution_count": null,
      "outputs": []
    }
  ]
}