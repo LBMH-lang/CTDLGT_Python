{
  "nbformat": 4,
  "nbformat_minor": 0,
  "metadata": {
    "colab": {
      "name": "code phân tích thống kê mô tả E.ipynb",
      "provenance": [],
      "authorship_tag": "ABX9TyPE4i/CKwiv463E9PjwKmBa",
      "include_colab_link": true
    },
    "kernelspec": {
      "name": "python3",
      "display_name": "Python 3"
    },
    "language_info": {
      "name": "python"
    }
  },
  "cells": [
    {
      "cell_type": "markdown",
      "metadata": {
        "id": "view-in-github",
        "colab_type": "text"
      },
      "source": [
        "<a href=\"https://colab.research.google.com/github/LBMH-lang/CTDLGT_Python/blob/main/code_ph%C3%A2n_t%C3%ADch_th%E1%BB%91ng_k%C3%AA_m%C3%B4_t%E1%BA%A3_E.ipynb\" target=\"_parent\"><img src=\"https://colab.research.google.com/assets/colab-badge.svg\" alt=\"Open In Colab\"/></a>"
      ]
    },
    {
      "cell_type": "markdown",
      "source": [
        "Cài đặt các thư viện"
      ],
      "metadata": {
        "id": "GzAfV-MG0dol"
      }
    },
    {
      "cell_type": "code",
      "execution_count": 3,
      "metadata": {
        "id": "9HjrYD2xN_th"
      },
      "outputs": [],
      "source": [
        "import pandas as pd\n",
        "import numpy as np\n",
        "from scipy import stats\n",
        "import statistics\n",
        "import matplotlib.pyplot as plt\n",
        "import seaborn as sns\n",
        "import statsmodels.api as sm\n",
        "import pylab\n",
        "import scipy.stats as stats"
      ]
    },
    {
      "cell_type": "markdown",
      "source": [
        "Tải dữ liệu"
      ],
      "metadata": {
        "id": "Jc_vn7AxURQ9"
      }
    },
    {
      "cell_type": "code",
      "source": [
        "Du_lieu1 = pd.read_csv(\"ehact_2014.csv\")"
      ],
      "metadata": {
        "id": "pWDEr5JhOUeF"
      },
      "execution_count": 4,
      "outputs": []
    },
    {
      "cell_type": "code",
      "source": [
        "Du_lieu1.sample(10)"
      ],
      "metadata": {
        "colab": {
          "base_uri": "https://localhost:8080/",
          "height": 363
        },
        "id": "olzyub7wOjD1",
        "outputId": "f24d21ac-6600-4f85-f92f-20006ceb4b43"
      },
      "execution_count": 5,
      "outputs": [
        {
          "output_type": "execute_result",
          "data": {
            "text/plain": [
              "              tucaseid  tuactivity_n  eueatsum  euedur  euedur24\n",
              "34578   20140403141072             1        -1      -1        -1\n",
              "100725  20141109141755            13        -1      -1        -1\n",
              "109074  20141111140639            16        -1      -1        -1\n",
              "50093   20140505141827             3        -1      -1        -1\n",
              "54947   20140605141238            11        -1      -1        -1\n",
              "69136   20140706142423             9        -1      -1        -1\n",
              "107565  20141110142190            17        -1      -1        -1\n",
              "100558  20141109141619            10         1       5         5\n",
              "113395  20141211140859            16        -1      -1        -1\n",
              "45693   20140504141601             4        -1      -1        -1"
            ],
            "text/html": [
              "\n",
              "  <div id=\"df-4788e6e1-1693-489d-95ce-0f11ff78b6a7\">\n",
              "    <div class=\"colab-df-container\">\n",
              "      <div>\n",
              "<style scoped>\n",
              "    .dataframe tbody tr th:only-of-type {\n",
              "        vertical-align: middle;\n",
              "    }\n",
              "\n",
              "    .dataframe tbody tr th {\n",
              "        vertical-align: top;\n",
              "    }\n",
              "\n",
              "    .dataframe thead th {\n",
              "        text-align: right;\n",
              "    }\n",
              "</style>\n",
              "<table border=\"1\" class=\"dataframe\">\n",
              "  <thead>\n",
              "    <tr style=\"text-align: right;\">\n",
              "      <th></th>\n",
              "      <th>tucaseid</th>\n",
              "      <th>tuactivity_n</th>\n",
              "      <th>eueatsum</th>\n",
              "      <th>euedur</th>\n",
              "      <th>euedur24</th>\n",
              "    </tr>\n",
              "  </thead>\n",
              "  <tbody>\n",
              "    <tr>\n",
              "      <th>34578</th>\n",
              "      <td>20140403141072</td>\n",
              "      <td>1</td>\n",
              "      <td>-1</td>\n",
              "      <td>-1</td>\n",
              "      <td>-1</td>\n",
              "    </tr>\n",
              "    <tr>\n",
              "      <th>100725</th>\n",
              "      <td>20141109141755</td>\n",
              "      <td>13</td>\n",
              "      <td>-1</td>\n",
              "      <td>-1</td>\n",
              "      <td>-1</td>\n",
              "    </tr>\n",
              "    <tr>\n",
              "      <th>109074</th>\n",
              "      <td>20141111140639</td>\n",
              "      <td>16</td>\n",
              "      <td>-1</td>\n",
              "      <td>-1</td>\n",
              "      <td>-1</td>\n",
              "    </tr>\n",
              "    <tr>\n",
              "      <th>50093</th>\n",
              "      <td>20140505141827</td>\n",
              "      <td>3</td>\n",
              "      <td>-1</td>\n",
              "      <td>-1</td>\n",
              "      <td>-1</td>\n",
              "    </tr>\n",
              "    <tr>\n",
              "      <th>54947</th>\n",
              "      <td>20140605141238</td>\n",
              "      <td>11</td>\n",
              "      <td>-1</td>\n",
              "      <td>-1</td>\n",
              "      <td>-1</td>\n",
              "    </tr>\n",
              "    <tr>\n",
              "      <th>69136</th>\n",
              "      <td>20140706142423</td>\n",
              "      <td>9</td>\n",
              "      <td>-1</td>\n",
              "      <td>-1</td>\n",
              "      <td>-1</td>\n",
              "    </tr>\n",
              "    <tr>\n",
              "      <th>107565</th>\n",
              "      <td>20141110142190</td>\n",
              "      <td>17</td>\n",
              "      <td>-1</td>\n",
              "      <td>-1</td>\n",
              "      <td>-1</td>\n",
              "    </tr>\n",
              "    <tr>\n",
              "      <th>100558</th>\n",
              "      <td>20141109141619</td>\n",
              "      <td>10</td>\n",
              "      <td>1</td>\n",
              "      <td>5</td>\n",
              "      <td>5</td>\n",
              "    </tr>\n",
              "    <tr>\n",
              "      <th>113395</th>\n",
              "      <td>20141211140859</td>\n",
              "      <td>16</td>\n",
              "      <td>-1</td>\n",
              "      <td>-1</td>\n",
              "      <td>-1</td>\n",
              "    </tr>\n",
              "    <tr>\n",
              "      <th>45693</th>\n",
              "      <td>20140504141601</td>\n",
              "      <td>4</td>\n",
              "      <td>-1</td>\n",
              "      <td>-1</td>\n",
              "      <td>-1</td>\n",
              "    </tr>\n",
              "  </tbody>\n",
              "</table>\n",
              "</div>\n",
              "      <button class=\"colab-df-convert\" onclick=\"convertToInteractive('df-4788e6e1-1693-489d-95ce-0f11ff78b6a7')\"\n",
              "              title=\"Convert this dataframe to an interactive table.\"\n",
              "              style=\"display:none;\">\n",
              "        \n",
              "  <svg xmlns=\"http://www.w3.org/2000/svg\" height=\"24px\"viewBox=\"0 0 24 24\"\n",
              "       width=\"24px\">\n",
              "    <path d=\"M0 0h24v24H0V0z\" fill=\"none\"/>\n",
              "    <path d=\"M18.56 5.44l.94 2.06.94-2.06 2.06-.94-2.06-.94-.94-2.06-.94 2.06-2.06.94zm-11 1L8.5 8.5l.94-2.06 2.06-.94-2.06-.94L8.5 2.5l-.94 2.06-2.06.94zm10 10l.94 2.06.94-2.06 2.06-.94-2.06-.94-.94-2.06-.94 2.06-2.06.94z\"/><path d=\"M17.41 7.96l-1.37-1.37c-.4-.4-.92-.59-1.43-.59-.52 0-1.04.2-1.43.59L10.3 9.45l-7.72 7.72c-.78.78-.78 2.05 0 2.83L4 21.41c.39.39.9.59 1.41.59.51 0 1.02-.2 1.41-.59l7.78-7.78 2.81-2.81c.8-.78.8-2.07 0-2.86zM5.41 20L4 18.59l7.72-7.72 1.47 1.35L5.41 20z\"/>\n",
              "  </svg>\n",
              "      </button>\n",
              "      \n",
              "  <style>\n",
              "    .colab-df-container {\n",
              "      display:flex;\n",
              "      flex-wrap:wrap;\n",
              "      gap: 12px;\n",
              "    }\n",
              "\n",
              "    .colab-df-convert {\n",
              "      background-color: #E8F0FE;\n",
              "      border: none;\n",
              "      border-radius: 50%;\n",
              "      cursor: pointer;\n",
              "      display: none;\n",
              "      fill: #1967D2;\n",
              "      height: 32px;\n",
              "      padding: 0 0 0 0;\n",
              "      width: 32px;\n",
              "    }\n",
              "\n",
              "    .colab-df-convert:hover {\n",
              "      background-color: #E2EBFA;\n",
              "      box-shadow: 0px 1px 2px rgba(60, 64, 67, 0.3), 0px 1px 3px 1px rgba(60, 64, 67, 0.15);\n",
              "      fill: #174EA6;\n",
              "    }\n",
              "\n",
              "    [theme=dark] .colab-df-convert {\n",
              "      background-color: #3B4455;\n",
              "      fill: #D2E3FC;\n",
              "    }\n",
              "\n",
              "    [theme=dark] .colab-df-convert:hover {\n",
              "      background-color: #434B5C;\n",
              "      box-shadow: 0px 1px 3px 1px rgba(0, 0, 0, 0.15);\n",
              "      filter: drop-shadow(0px 1px 2px rgba(0, 0, 0, 0.3));\n",
              "      fill: #FFFFFF;\n",
              "    }\n",
              "  </style>\n",
              "\n",
              "      <script>\n",
              "        const buttonEl =\n",
              "          document.querySelector('#df-4788e6e1-1693-489d-95ce-0f11ff78b6a7 button.colab-df-convert');\n",
              "        buttonEl.style.display =\n",
              "          google.colab.kernel.accessAllowed ? 'block' : 'none';\n",
              "\n",
              "        async function convertToInteractive(key) {\n",
              "          const element = document.querySelector('#df-4788e6e1-1693-489d-95ce-0f11ff78b6a7');\n",
              "          const dataTable =\n",
              "            await google.colab.kernel.invokeFunction('convertToInteractive',\n",
              "                                                     [key], {});\n",
              "          if (!dataTable) return;\n",
              "\n",
              "          const docLinkHtml = 'Like what you see? Visit the ' +\n",
              "            '<a target=\"_blank\" href=https://colab.research.google.com/notebooks/data_table.ipynb>data table notebook</a>'\n",
              "            + ' to learn more about interactive tables.';\n",
              "          element.innerHTML = '';\n",
              "          dataTable['output_type'] = 'display_data';\n",
              "          await google.colab.output.renderOutput(dataTable, element);\n",
              "          const docLink = document.createElement('div');\n",
              "          docLink.innerHTML = docLinkHtml;\n",
              "          element.appendChild(docLink);\n",
              "        }\n",
              "      </script>\n",
              "    </div>\n",
              "  </div>\n",
              "  "
            ]
          },
          "metadata": {},
          "execution_count": 5
        }
      ]
    },
    {
      "cell_type": "markdown",
      "source": [
        "Kiểm định Bartlett"
      ],
      "metadata": {
        "id": "JnVv_Sn1qsvq"
      }
    },
    {
      "cell_type": "code",
      "source": [
        "high = low =  placebo = []\n",
        "high = Du_lieu1['tucaseid'][Du_lieu1['tuactivity_n'][Du_lieu1['eueatsum'][Du_lieu1['euedur'][Du_lieu1['euedur24'] == 'high']]]]\n",
        "low = Du_lieu1['tucaseid'][Du_lieu1['tuactivity_n'][Du_lieu1['eueatsum'][Du_lieu1['euedur'][Du_lieu1['euedur24'] == 'low']]]]\n",
        "placebo = Du_lieu1['tucaseid'][Du_lieu1['tuactivity_n'][Du_lieu1['eueatsum'][Du_lieu1['euedur'][Du_lieu1['euedur24'] == 'placebo']]]]"
      ],
      "metadata": {
        "id": "o7G8ruqzOmKZ"
      },
      "execution_count": 10,
      "outputs": []
    },
    {
      "cell_type": "code",
      "source": [
        "tucaseid = Du_lieu1['tucaseid']\n",
        "tuactivity_n = Du_lieu1['tuactivity_n']\n",
        "eueatsum = Du_lieu1['eueatsum']\n",
        "euedur = Du_lieu1['euedur']\n",
        "euedur24 = Du_lieu1['euedur24']"
      ],
      "metadata": {
        "id": "NdNIWRGwP6Pt"
      },
      "execution_count": 11,
      "outputs": []
    },
    {
      "cell_type": "code",
      "source": [
        "# tiếp theo ta sẽ dùng Kiểm định tính thuần nhất của phương sai (homogeneity of variance)\n",
        "from scipy.stats import bartlett\n",
        "print('Kiểm định Bartlett:')\n",
        "bartlett_test = bartlett(tucaseid,tuactivity_n,eueatsum,euedur,euedur24)\n",
        "print(bartlett_test)\n",
        "bartlettvalue,pvalue=bartlett_test\n",
        "if (bartlettvalue > 0) and (pvalue < 0.05):\n",
        "    print('Phương sai các nhóm không bằng nhau. Ta không thể sử dụng kiểm định Anova')\n",
        "else:\n",
        "    print('Phương sai các nhóm  bằng nhau.')\n",
        "print('-'*50)"
      ],
      "metadata": {
        "colab": {
          "base_uri": "https://localhost:8080/"
        },
        "id": "z6mj-loNRDUB",
        "outputId": "726bc612-c3de-41b4-83ca-e8f0a3be082a"
      },
      "execution_count": 12,
      "outputs": [
        {
          "output_type": "stream",
          "name": "stdout",
          "text": [
            "Kiểm định Bartlett:\n",
            "BartlettResult(statistic=16383000.788372548, pvalue=0.0)\n",
            "Phương sai các nhóm không bằng nhau. Ta không thể sử dụng kiểm định Anova\n",
            "--------------------------------------------------\n"
          ]
        }
      ]
    },
    {
      "cell_type": "markdown",
      "source": [
        "Trung bình cộng của từng cột trong tập dữ liệu"
      ],
      "metadata": {
        "id": "Td8DfEvQqnu-"
      }
    },
    {
      "cell_type": "code",
      "source": [
        "Mean_EZ = Du_lieu1.mean(axis = 0)\n",
        "Mean_EZ"
      ],
      "metadata": {
        "colab": {
          "base_uri": "https://localhost:8080/"
        },
        "id": "TQjEN9wzRXf9",
        "outputId": "d193278e-3f12-4217-9eaa-6fad44aacb6e"
      },
      "execution_count": 13,
      "outputs": [
        {
          "output_type": "execute_result",
          "data": {
            "text/plain": [
              "tucaseid        2.014066e+13\n",
              "tuactivity_n    1.190398e+01\n",
              "eueatsum       -8.589866e-01\n",
              "euedur          6.280287e-01\n",
              "euedur24        6.267862e-01\n",
              "dtype: float64"
            ]
          },
          "metadata": {},
          "execution_count": 13
        }
      ]
    },
    {
      "cell_type": "markdown",
      "source": [
        "Phương sai của từng cột trong tập dữ liệu"
      ],
      "metadata": {
        "id": "0Aer7cJVrylI"
      }
    },
    {
      "cell_type": "code",
      "source": [
        "Mean_EZ2 = Du_lieu1.var(axis= 0)\n",
        "Mean_EZ2"
      ],
      "metadata": {
        "colab": {
          "base_uri": "https://localhost:8080/"
        },
        "id": "TDhcd7kdr4XW",
        "outputId": "e7ef939c-a30d-4af5-e7d6-fcfe1f40ff57"
      },
      "execution_count": 23,
      "outputs": [
        {
          "output_type": "execute_result",
          "data": {
            "text/plain": [
              "tucaseid        1.202929e+17\n",
              "tuactivity_n    6.762923e+01\n",
              "eueatsum        2.622685e-01\n",
              "euedur          2.086272e+02\n",
              "euedur24        2.080945e+02\n",
              "dtype: float64"
            ]
          },
          "metadata": {},
          "execution_count": 23
        }
      ]
    },
    {
      "cell_type": "markdown",
      "source": [
        "Độ lệch chuẩn của từng cột trong tập dữ liệu"
      ],
      "metadata": {
        "id": "nH2NdJ1DUv5g"
      }
    },
    {
      "cell_type": "code",
      "source": [
        "Mean_EZ3 = Du_lieu1.std(axis= 0)\n",
        "Mean_EZ3"
      ],
      "metadata": {
        "colab": {
          "base_uri": "https://localhost:8080/"
        },
        "id": "zWIBlmhwRis9",
        "outputId": "b670760a-672b-444b-d90d-3227c707d7b9"
      },
      "execution_count": 14,
      "outputs": [
        {
          "output_type": "execute_result",
          "data": {
            "text/plain": [
              "tucaseid        3.468327e+08\n",
              "tuactivity_n    8.223699e+00\n",
              "eueatsum        5.121216e-01\n",
              "euedur          1.444393e+01\n",
              "euedur24        1.442548e+01\n",
              "dtype: float64"
            ]
          },
          "metadata": {},
          "execution_count": 14
        }
      ]
    },
    {
      "cell_type": "markdown",
      "source": [
        "Giá trị lớn nhất và nhỏ nhất của từng cột trong tập dữ liệu"
      ],
      "metadata": {
        "id": "ROw1G6wFsd0P"
      }
    },
    {
      "cell_type": "code",
      "source": [
        "max1 = np.nanmax(Du_lieu1.iloc[:, 1].values)\n",
        "min1 = np.nanmin(Du_lieu1.iloc[:, 1].values)\n",
        "max2 = np.nanmax(Du_lieu1.iloc[:, 2].values)\n",
        "min2 = np.nanmin(Du_lieu1.iloc[:, 2].values)\n",
        "max3 = np.nanmax(Du_lieu1.iloc[:, 3].values)\n",
        "min3 = np.nanmin(Du_lieu1.iloc[:, 3].values)\n",
        "max4 = np.nanmax(Du_lieu1.iloc[:, 4].values)\n",
        "min4 = np.nanmin(Du_lieu1.iloc[:, 4].values)\n",
        "\n",
        "\n",
        "print('min của tucaseid:', min1)\n",
        "print('max của tucaseid:', max1)\n",
        "print('max của tuactivity_n:', max2)\n",
        "print('min của tuactivity_n:', min2)\n",
        "print('max của eueatsum:', max3)\n",
        "print('min của eueatsum:', min3)\n",
        "print('max của euedur:', max4)\n",
        "print('min của euedur:', min4)\n"
      ],
      "metadata": {
        "colab": {
          "base_uri": "https://localhost:8080/"
        },
        "id": "1C6_iORqRoCs",
        "outputId": "fb436598-8840-4de7-b0ef-64c7ea2151d3"
      },
      "execution_count": 17,
      "outputs": [
        {
          "output_type": "stream",
          "name": "stdout",
          "text": [
            "min của tucaseid: 1\n",
            "max của tucaseid: 59\n",
            "max của tuactivity_n: 1\n",
            "min của tuactivity_n: -2\n",
            "max của eueatsum: 735\n",
            "min của eueatsum: -2\n",
            "max của euedur: 735\n",
            "min của euedur: -2\n"
          ]
        }
      ]
    },
    {
      "cell_type": "markdown",
      "source": [
        "Trực quan hóa dữ liệu:\n",
        "\n",
        "Đầu tiên hiển thị biểu đồ cho thuộc tính sepal length"
      ],
      "metadata": {
        "id": "Y6FE7wSiVFWW"
      }
    },
    {
      "cell_type": "code",
      "source": [
        "%matplotlib inline\n",
        "\n",
        "Du_lieu1['tucaseid'].hist(bins=8)"
      ],
      "metadata": {
        "colab": {
          "base_uri": "https://localhost:8080/",
          "height": 296
        },
        "id": "fsdTTu0XSyMH",
        "outputId": "ded6dcac-d8e1-4aaa-ce3f-20a5154545ae"
      },
      "execution_count": 19,
      "outputs": [
        {
          "output_type": "execute_result",
          "data": {
            "text/plain": [
              "<matplotlib.axes._subplots.AxesSubplot at 0x7f9477a5f990>"
            ]
          },
          "metadata": {},
          "execution_count": 19
        },
        {
          "output_type": "display_data",
          "data": {
            "text/plain": [
              "<Figure size 432x288 with 1 Axes>"
            ],
            "image/png": "[encoded data removed]"
          },
          "metadata": {
            "needs_background": "light"
          }
        }
      ]
    },
    {
      "cell_type": "markdown",
      "source": [
        "Biểu đồ Boxplot"
      ],
      "metadata": {
        "id": "MWMbwzNZVj6-"
      }
    },
    {
      "cell_type": "code",
      "source": [
        "Du_lieu1.boxplot()"
      ],
      "metadata": {
        "colab": {
          "base_uri": "https://localhost:8080/",
          "height": 295
        },
        "id": "nrOhYprWTS0c",
        "outputId": "d175676e-cec9-4d45-8947-affbc9fe56e8"
      },
      "execution_count": 20,
      "outputs": [
        {
          "output_type": "execute_result",
          "data": {
            "text/plain": [
              "<matplotlib.axes._subplots.AxesSubplot at 0x7f9476cd3fd0>"
            ]
          },
          "metadata": {},
          "execution_count": 20
        },
        {
          "output_type": "display_data",
          "data": {
            "text/plain": [
              "<Figure size 432x288 with 1 Axes>"
            ],
            "image/png": "[encoded data removed]"
          },
          "metadata": {
            "needs_background": "light"
          }
        }
      ]
    },
    {
      "cell_type": "code",
      "source": [
        "fig, axes = plt.subplots(3, 2, figsize=(12,12))\n",
        "index = 0\n",
        "for i in range(3):\n",
        "    for j in range(i+1,4):\n",
        "        ax1 = int(index/2)\n",
        "        ax2 = index % 2\n",
        "        axes[ax1][ax2].scatter(Du_lieu1[Du_lieu1.columns[i]], Du_lieu1[Du_lieu1.columns[j]], color='red')\n",
        "        axes[ax1][ax2].set_xlabel(Du_lieu1.columns[i])\n",
        "        axes[ax1][ax2].set_ylabel(Du_lieu1.columns[j])\n",
        "        index = index + 1"
      ],
      "metadata": {
        "colab": {
          "base_uri": "https://localhost:8080/",
          "height": 714
        },
        "id": "BuSIYNBNTiE4",
        "outputId": "c6cfb89f-3494-407a-cd3d-70bcc3bc237e"
      },
      "execution_count": 21,
      "outputs": [
        {
          "output_type": "display_data",
          "data": {
            "text/plain": [
              "<Figure size 864x864 with 6 Axes>"
            ],
            "image/png": "[encoded data removed]"
          },
          "metadata": {
            "needs_background": "light"
          }
        }
      ]
    }
  ]
}